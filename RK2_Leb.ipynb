{
 "cells": [
  {
   "cell_type": "markdown",
   "id": "2f4b9837",
   "metadata": {},
   "source": [
    "# ИУ5-63Б Лебедева София, Вариант 10"
   ]
  },
  {
   "cell_type": "markdown",
   "id": "225f406b",
   "metadata": {},
   "source": [
    "Для заданного набора данных построить модели регрессии. Для построения моделей используйте методы: **дерево решений и случайный лес**.\n",
    "\n",
    "Оцените качество моделей на основе подходящих метрик качества (не менее двух метрик). Какие метрики качества Вы использовали и почему?\n",
    "\n",
    "Какие выводы Вы можете сделать о качестве построенных моделей?\n",
    "\n",
    "Для построения моделей необходимо выполнить требуемую предобработку данных: заполнение пропусков, кодирование категориальных признаков, и т.д. Для сокращения времени построения моделей можно использовать фрагмент набора данных (например, первые 200-500 строк)."
   ]
  },
  {
   "cell_type": "markdown",
   "id": "c9cc4efa",
   "metadata": {},
   "source": [
    "Набор данных **brazilian_houses_to_rent (файл houses_to_rent_v2.csv)**\n",
    "\n",
    "city - находится ли недвижимость в городе\n",
    "\n",
    "area - площадь недвижимости в квадратных метрах\n",
    "\n",
    "rooms - количество комнат\n",
    "\n",
    "bathroom - количество ванных комнат\n",
    "\n",
    "parking spaces - количество парковочных мест\n",
    "\n",
    "floor - этаж, на котором находится недвижимость\n",
    "\n",
    "animal - принимает ли недвижимость животных ('acept' - допускается, 'not acept' - не допускается)\n",
    "\n",
    "furniture - состояние мебели в недвижимости ('furnished' - меблировано, 'not furnished' - не меблировано)\n",
    "\n",
    "hoa - стоимость услуг по обслуживанию жилого комплекса\n",
    "\n",
    "rent amount - арендная плата\n",
    "\n",
    "property tax - налог на недвижимость\n",
    "\n",
    "fire insurance - стоимость страхования от пожара\n",
    "\n",
    "total - общая стоимость аренды, включающая все расходы"
   ]
  },
  {
   "cell_type": "markdown",
   "id": "8511504a",
   "metadata": {},
   "source": [
    "## Подготовка данных"
   ]
  },
  {
   "cell_type": "code",
   "execution_count": 1,
   "id": "18db811a",
   "metadata": {},
   "outputs": [],
   "source": [
    "import numpy as np\n",
    "import pandas as pd\n",
    "from sklearn.model_selection import train_test_split\n",
    "from sklearn.tree import DecisionTreeRegressor\n",
    "from sklearn.ensemble import RandomForestRegressor"
   ]
  },
  {
   "cell_type": "code",
   "execution_count": 2,
   "id": "4c3321b1",
   "metadata": {},
   "outputs": [
    {
     "data": {
      "text/html": [
       "<div>\n",
       "<style scoped>\n",
       "    .dataframe tbody tr th:only-of-type {\n",
       "        vertical-align: middle;\n",
       "    }\n",
       "\n",
       "    .dataframe tbody tr th {\n",
       "        vertical-align: top;\n",
       "    }\n",
       "\n",
       "    .dataframe thead th {\n",
       "        text-align: right;\n",
       "    }\n",
       "</style>\n",
       "<table border=\"1\" class=\"dataframe\">\n",
       "  <thead>\n",
       "    <tr style=\"text-align: right;\">\n",
       "      <th></th>\n",
       "      <th>city</th>\n",
       "      <th>area</th>\n",
       "      <th>rooms</th>\n",
       "      <th>bathroom</th>\n",
       "      <th>parking spaces</th>\n",
       "      <th>floor</th>\n",
       "      <th>animal</th>\n",
       "      <th>furniture</th>\n",
       "      <th>hoa (R$)</th>\n",
       "      <th>rent amount (R$)</th>\n",
       "      <th>property tax (R$)</th>\n",
       "      <th>fire insurance (R$)</th>\n",
       "      <th>total (R$)</th>\n",
       "    </tr>\n",
       "  </thead>\n",
       "  <tbody>\n",
       "    <tr>\n",
       "      <th>0</th>\n",
       "      <td>São Paulo</td>\n",
       "      <td>70</td>\n",
       "      <td>2</td>\n",
       "      <td>1</td>\n",
       "      <td>1</td>\n",
       "      <td>7</td>\n",
       "      <td>acept</td>\n",
       "      <td>furnished</td>\n",
       "      <td>2065</td>\n",
       "      <td>3300</td>\n",
       "      <td>211</td>\n",
       "      <td>42</td>\n",
       "      <td>5618</td>\n",
       "    </tr>\n",
       "    <tr>\n",
       "      <th>1</th>\n",
       "      <td>São Paulo</td>\n",
       "      <td>320</td>\n",
       "      <td>4</td>\n",
       "      <td>4</td>\n",
       "      <td>0</td>\n",
       "      <td>20</td>\n",
       "      <td>acept</td>\n",
       "      <td>not furnished</td>\n",
       "      <td>1200</td>\n",
       "      <td>4960</td>\n",
       "      <td>1750</td>\n",
       "      <td>63</td>\n",
       "      <td>7973</td>\n",
       "    </tr>\n",
       "    <tr>\n",
       "      <th>2</th>\n",
       "      <td>Porto Alegre</td>\n",
       "      <td>80</td>\n",
       "      <td>1</td>\n",
       "      <td>1</td>\n",
       "      <td>1</td>\n",
       "      <td>6</td>\n",
       "      <td>acept</td>\n",
       "      <td>not furnished</td>\n",
       "      <td>1000</td>\n",
       "      <td>2800</td>\n",
       "      <td>0</td>\n",
       "      <td>41</td>\n",
       "      <td>3841</td>\n",
       "    </tr>\n",
       "    <tr>\n",
       "      <th>3</th>\n",
       "      <td>Porto Alegre</td>\n",
       "      <td>51</td>\n",
       "      <td>2</td>\n",
       "      <td>1</td>\n",
       "      <td>0</td>\n",
       "      <td>2</td>\n",
       "      <td>acept</td>\n",
       "      <td>not furnished</td>\n",
       "      <td>270</td>\n",
       "      <td>1112</td>\n",
       "      <td>22</td>\n",
       "      <td>17</td>\n",
       "      <td>1421</td>\n",
       "    </tr>\n",
       "    <tr>\n",
       "      <th>4</th>\n",
       "      <td>São Paulo</td>\n",
       "      <td>25</td>\n",
       "      <td>1</td>\n",
       "      <td>1</td>\n",
       "      <td>0</td>\n",
       "      <td>1</td>\n",
       "      <td>not acept</td>\n",
       "      <td>not furnished</td>\n",
       "      <td>0</td>\n",
       "      <td>800</td>\n",
       "      <td>25</td>\n",
       "      <td>11</td>\n",
       "      <td>836</td>\n",
       "    </tr>\n",
       "  </tbody>\n",
       "</table>\n",
       "</div>"
      ],
      "text/plain": [
       "           city  area  rooms  bathroom  parking spaces floor     animal   \n",
       "0     São Paulo    70      2         1               1     7      acept  \\\n",
       "1     São Paulo   320      4         4               0    20      acept   \n",
       "2  Porto Alegre    80      1         1               1     6      acept   \n",
       "3  Porto Alegre    51      2         1               0     2      acept   \n",
       "4     São Paulo    25      1         1               0     1  not acept   \n",
       "\n",
       "       furniture  hoa (R$)  rent amount (R$)  property tax (R$)   \n",
       "0      furnished      2065              3300                211  \\\n",
       "1  not furnished      1200              4960               1750   \n",
       "2  not furnished      1000              2800                  0   \n",
       "3  not furnished       270              1112                 22   \n",
       "4  not furnished         0               800                 25   \n",
       "\n",
       "   fire insurance (R$)  total (R$)  \n",
       "0                   42        5618  \n",
       "1                   63        7973  \n",
       "2                   41        3841  \n",
       "3                   17        1421  \n",
       "4                   11         836  "
      ]
     },
     "execution_count": 2,
     "metadata": {},
     "output_type": "execute_result"
    }
   ],
   "source": [
    "data = pd.read_csv('houses_to_rent_v2.csv')\n",
    "data.head()"
   ]
  },
  {
   "cell_type": "code",
   "execution_count": 3,
   "id": "230a53b6",
   "metadata": {},
   "outputs": [
    {
     "data": {
      "text/plain": [
       "(10692, 13)"
      ]
     },
     "execution_count": 3,
     "metadata": {},
     "output_type": "execute_result"
    }
   ],
   "source": [
    "data.shape"
   ]
  },
  {
   "cell_type": "code",
   "execution_count": 4,
   "id": "e2543705",
   "metadata": {},
   "outputs": [
    {
     "data": {
      "text/plain": [
       "city                   object\n",
       "area                    int64\n",
       "rooms                   int64\n",
       "bathroom                int64\n",
       "parking spaces          int64\n",
       "floor                  object\n",
       "animal                 object\n",
       "furniture              object\n",
       "hoa (R$)                int64\n",
       "rent amount (R$)        int64\n",
       "property tax (R$)       int64\n",
       "fire insurance (R$)     int64\n",
       "total (R$)              int64\n",
       "dtype: object"
      ]
     },
     "execution_count": 4,
     "metadata": {},
     "output_type": "execute_result"
    }
   ],
   "source": [
    "data.dtypes"
   ]
  },
  {
   "cell_type": "code",
   "execution_count": 5,
   "id": "41cd2982",
   "metadata": {},
   "outputs": [
    {
     "data": {
      "text/plain": [
       "city                   0\n",
       "area                   0\n",
       "rooms                  0\n",
       "bathroom               0\n",
       "parking spaces         0\n",
       "floor                  0\n",
       "animal                 0\n",
       "furniture              0\n",
       "hoa (R$)               0\n",
       "rent amount (R$)       0\n",
       "property tax (R$)      0\n",
       "fire insurance (R$)    0\n",
       "total (R$)             0\n",
       "dtype: int64"
      ]
     },
     "execution_count": 5,
     "metadata": {},
     "output_type": "execute_result"
    }
   ],
   "source": [
    "data.isnull().sum()"
   ]
  },
  {
   "cell_type": "markdown",
   "id": "c3ce093d",
   "metadata": {},
   "source": [
    "### Видно, что в колонке 'floor' хранятся числовые значения, которые из-за обозначения пропуска значком '-' воспринимаются как object"
   ]
  },
  {
   "cell_type": "code",
   "execution_count": 6,
   "id": "a02cbc8e",
   "metadata": {},
   "outputs": [
    {
     "data": {
      "text/plain": [
       "0         7.0\n",
       "1        20.0\n",
       "2         6.0\n",
       "3         2.0\n",
       "4         1.0\n",
       "         ... \n",
       "10687     5.0\n",
       "10688    17.0\n",
       "10689     8.0\n",
       "10690     8.0\n",
       "10691     NaN\n",
       "Name: floor, Length: 10692, dtype: float64"
      ]
     },
     "execution_count": 6,
     "metadata": {},
     "output_type": "execute_result"
    }
   ],
   "source": [
    "data['floor'] = data['floor'].replace('-', np.nan).astype(float)\n",
    "data['floor']"
   ]
  },
  {
   "cell_type": "code",
   "execution_count": 7,
   "id": "b1f7c1f4",
   "metadata": {},
   "outputs": [
    {
     "data": {
      "text/plain": [
       "city                      0\n",
       "area                      0\n",
       "rooms                     0\n",
       "bathroom                  0\n",
       "parking spaces            0\n",
       "floor                  2461\n",
       "animal                    0\n",
       "furniture                 0\n",
       "hoa (R$)                  0\n",
       "rent amount (R$)          0\n",
       "property tax (R$)         0\n",
       "fire insurance (R$)       0\n",
       "total (R$)                0\n",
       "dtype: int64"
      ]
     },
     "execution_count": 7,
     "metadata": {},
     "output_type": "execute_result"
    }
   ],
   "source": [
    "data.isnull().sum()"
   ]
  },
  {
   "cell_type": "code",
   "execution_count": 8,
   "id": "b6e779cc",
   "metadata": {},
   "outputs": [
    {
     "name": "stdout",
     "output_type": "stream",
     "text": [
      "23.01720912832024%\n"
     ]
    }
   ],
   "source": [
    "print(f\"{data['floor'].isnull().sum()/ len(data['floor']) * 100}%\")"
   ]
  },
  {
   "cell_type": "code",
   "execution_count": 10,
   "id": "14bf16a4",
   "metadata": {},
   "outputs": [
    {
     "data": {
      "text/plain": [
       "count    8231.000000\n",
       "mean        6.583283\n",
       "std         6.153925\n",
       "min         1.000000\n",
       "25%         2.000000\n",
       "50%         5.000000\n",
       "75%         9.000000\n",
       "max       301.000000\n",
       "Name: floor, dtype: float64"
      ]
     },
     "execution_count": 10,
     "metadata": {},
     "output_type": "execute_result"
    }
   ],
   "source": [
    "data['floor'].describe()"
   ]
  },
  {
   "cell_type": "markdown",
   "id": "79daf1ea",
   "metadata": {},
   "source": [
    "### Так как есть выбросы в столбце 'floor', то буду применять стратегию -- median"
   ]
  },
  {
   "cell_type": "code",
   "execution_count": 11,
   "id": "54488b53",
   "metadata": {},
   "outputs": [
    {
     "data": {
      "text/plain": [
       "<Axes: xlabel='floor'>"
      ]
     },
     "execution_count": 11,
     "metadata": {},
     "output_type": "execute_result"
    },
    {
     "data": {
      "image/png": "[encoded data removed]",
      "text/plain": [
       "<Figure size 640x480 with 1 Axes>"
      ]
     },
     "metadata": {},
     "output_type": "display_data"
    }
   ],
   "source": [
    "import seaborn as sns\n",
    "\n",
    "sns.boxplot(x=data['floor'])"
   ]
  },
  {
   "cell_type": "code",
   "execution_count": 12,
   "id": "b2b7acb0",
   "metadata": {},
   "outputs": [],
   "source": [
    "from sklearn.impute import MissingIndicator, SimpleImputer"
   ]
  },
  {
   "cell_type": "code",
   "execution_count": 13,
   "id": "bf7ad504",
   "metadata": {},
   "outputs": [],
   "source": [
    "# Более сложная функция, которая позволяет задавать колонку и вид импьютации\n",
    "def test_num_impute_col(dataset, column, strategy_param):\n",
    "    temp_data = dataset[[column]]\n",
    "\n",
    "    indicator = MissingIndicator()\n",
    "    mask_missing_values_only = indicator.fit_transform(temp_data)\n",
    "\n",
    "    imp_num = SimpleImputer(strategy=strategy_param)\n",
    "    data_num_imp = imp_num.fit_transform(temp_data)\n",
    "\n",
    "    filled_data = data_num_imp[mask_missing_values_only]\n",
    "\n",
    "    return column, strategy_param, filled_data.size, filled_data[0], filled_data[filled_data.size-1]\n"
   ]
  },
  {
   "cell_type": "code",
   "execution_count": 14,
   "id": "591f6e0d",
   "metadata": {},
   "outputs": [
    {
     "name": "stdout",
     "output_type": "stream",
     "text": [
      "Результат для magnesium: ('floor', 'median', 2461, 5.0, 5.0)\n"
     ]
    }
   ],
   "source": [
    "# Вызываем функцию для замены пропусков в magnesium\n",
    "result_floor = test_num_impute_col(data, 'floor', 'median')\n",
    "print(\"Результат для magnesium:\", result_floor)\n"
   ]
  },
  {
   "cell_type": "code",
   "execution_count": 15,
   "id": "0e62b5af",
   "metadata": {},
   "outputs": [],
   "source": [
    "data['floor'].fillna(result_floor[3], inplace=True)"
   ]
  },
  {
   "cell_type": "code",
   "execution_count": 16,
   "id": "6edca2c5",
   "metadata": {},
   "outputs": [
    {
     "data": {
      "text/plain": [
       "city                   0\n",
       "area                   0\n",
       "rooms                  0\n",
       "bathroom               0\n",
       "parking spaces         0\n",
       "floor                  0\n",
       "animal                 0\n",
       "furniture              0\n",
       "hoa (R$)               0\n",
       "rent amount (R$)       0\n",
       "property tax (R$)      0\n",
       "fire insurance (R$)    0\n",
       "total (R$)             0\n",
       "dtype: int64"
      ]
     },
     "execution_count": 16,
     "metadata": {},
     "output_type": "execute_result"
    }
   ],
   "source": [
    "data.isnull().sum()"
   ]
  },
  {
   "cell_type": "code",
   "execution_count": 17,
   "id": "04d510cc",
   "metadata": {},
   "outputs": [
    {
     "data": {
      "text/plain": [
       "city                    object\n",
       "area                     int64\n",
       "rooms                    int64\n",
       "bathroom                 int64\n",
       "parking spaces           int64\n",
       "floor                  float64\n",
       "animal                  object\n",
       "furniture               object\n",
       "hoa (R$)                 int64\n",
       "rent amount (R$)         int64\n",
       "property tax (R$)        int64\n",
       "fire insurance (R$)      int64\n",
       "total (R$)               int64\n",
       "dtype: object"
      ]
     },
     "execution_count": 17,
     "metadata": {},
     "output_type": "execute_result"
    }
   ],
   "source": [
    "data.dtypes"
   ]
  },
  {
   "cell_type": "markdown",
   "id": "73f7b0c1",
   "metadata": {},
   "source": [
    "### С помощью LabelEncoder закодирую категориальные данные"
   ]
  },
  {
   "cell_type": "code",
   "execution_count": 18,
   "id": "970407d9",
   "metadata": {},
   "outputs": [
    {
     "data": {
      "text/plain": [
       "['city', 'animal', 'furniture']"
      ]
     },
     "execution_count": 18,
     "metadata": {},
     "output_type": "execute_result"
    }
   ],
   "source": [
    "categorical_cols=data.select_dtypes(include=object).columns.to_list()\n",
    "categorical_cols"
   ]
  },
  {
   "cell_type": "code",
   "execution_count": 19,
   "id": "40af1add",
   "metadata": {},
   "outputs": [
    {
     "name": "stdout",
     "output_type": "stream",
     "text": [
      "column -- city: ['São Paulo' 'Porto Alegre' 'Rio de Janeiro' 'Campinas' 'Belo Horizonte']\n",
      "column -- animal: ['acept' 'not acept']\n",
      "column -- furniture: ['furnished' 'not furnished']\n"
     ]
    }
   ],
   "source": [
    "for cat in categorical_cols:\n",
    "    print(f\"column -- {cat}: {data[cat].unique()}\")"
   ]
  },
  {
   "cell_type": "code",
   "execution_count": 20,
   "id": "a03c1ab9",
   "metadata": {},
   "outputs": [],
   "source": [
    "from sklearn.preprocessing import LabelEncoder\n",
    "\n",
    "for cat in categorical_cols:\n",
    "    le = LabelEncoder()\n",
    "    data[cat] = le.fit_transform(data[cat])"
   ]
  },
  {
   "cell_type": "code",
   "execution_count": 21,
   "id": "885ec587",
   "metadata": {},
   "outputs": [
    {
     "data": {
      "text/html": [
       "<div>\n",
       "<style scoped>\n",
       "    .dataframe tbody tr th:only-of-type {\n",
       "        vertical-align: middle;\n",
       "    }\n",
       "\n",
       "    .dataframe tbody tr th {\n",
       "        vertical-align: top;\n",
       "    }\n",
       "\n",
       "    .dataframe thead th {\n",
       "        text-align: right;\n",
       "    }\n",
       "</style>\n",
       "<table border=\"1\" class=\"dataframe\">\n",
       "  <thead>\n",
       "    <tr style=\"text-align: right;\">\n",
       "      <th></th>\n",
       "      <th>city</th>\n",
       "      <th>area</th>\n",
       "      <th>rooms</th>\n",
       "      <th>bathroom</th>\n",
       "      <th>parking spaces</th>\n",
       "      <th>floor</th>\n",
       "      <th>animal</th>\n",
       "      <th>furniture</th>\n",
       "      <th>hoa (R$)</th>\n",
       "      <th>rent amount (R$)</th>\n",
       "      <th>property tax (R$)</th>\n",
       "      <th>fire insurance (R$)</th>\n",
       "      <th>total (R$)</th>\n",
       "    </tr>\n",
       "  </thead>\n",
       "  <tbody>\n",
       "    <tr>\n",
       "      <th>0</th>\n",
       "      <td>4</td>\n",
       "      <td>70</td>\n",
       "      <td>2</td>\n",
       "      <td>1</td>\n",
       "      <td>1</td>\n",
       "      <td>7.0</td>\n",
       "      <td>0</td>\n",
       "      <td>0</td>\n",
       "      <td>2065</td>\n",
       "      <td>3300</td>\n",
       "      <td>211</td>\n",
       "      <td>42</td>\n",
       "      <td>5618</td>\n",
       "    </tr>\n",
       "    <tr>\n",
       "      <th>1</th>\n",
       "      <td>4</td>\n",
       "      <td>320</td>\n",
       "      <td>4</td>\n",
       "      <td>4</td>\n",
       "      <td>0</td>\n",
       "      <td>20.0</td>\n",
       "      <td>0</td>\n",
       "      <td>1</td>\n",
       "      <td>1200</td>\n",
       "      <td>4960</td>\n",
       "      <td>1750</td>\n",
       "      <td>63</td>\n",
       "      <td>7973</td>\n",
       "    </tr>\n",
       "    <tr>\n",
       "      <th>2</th>\n",
       "      <td>2</td>\n",
       "      <td>80</td>\n",
       "      <td>1</td>\n",
       "      <td>1</td>\n",
       "      <td>1</td>\n",
       "      <td>6.0</td>\n",
       "      <td>0</td>\n",
       "      <td>1</td>\n",
       "      <td>1000</td>\n",
       "      <td>2800</td>\n",
       "      <td>0</td>\n",
       "      <td>41</td>\n",
       "      <td>3841</td>\n",
       "    </tr>\n",
       "    <tr>\n",
       "      <th>3</th>\n",
       "      <td>2</td>\n",
       "      <td>51</td>\n",
       "      <td>2</td>\n",
       "      <td>1</td>\n",
       "      <td>0</td>\n",
       "      <td>2.0</td>\n",
       "      <td>0</td>\n",
       "      <td>1</td>\n",
       "      <td>270</td>\n",
       "      <td>1112</td>\n",
       "      <td>22</td>\n",
       "      <td>17</td>\n",
       "      <td>1421</td>\n",
       "    </tr>\n",
       "    <tr>\n",
       "      <th>4</th>\n",
       "      <td>4</td>\n",
       "      <td>25</td>\n",
       "      <td>1</td>\n",
       "      <td>1</td>\n",
       "      <td>0</td>\n",
       "      <td>1.0</td>\n",
       "      <td>1</td>\n",
       "      <td>1</td>\n",
       "      <td>0</td>\n",
       "      <td>800</td>\n",
       "      <td>25</td>\n",
       "      <td>11</td>\n",
       "      <td>836</td>\n",
       "    </tr>\n",
       "    <tr>\n",
       "      <th>...</th>\n",
       "      <td>...</td>\n",
       "      <td>...</td>\n",
       "      <td>...</td>\n",
       "      <td>...</td>\n",
       "      <td>...</td>\n",
       "      <td>...</td>\n",
       "      <td>...</td>\n",
       "      <td>...</td>\n",
       "      <td>...</td>\n",
       "      <td>...</td>\n",
       "      <td>...</td>\n",
       "      <td>...</td>\n",
       "      <td>...</td>\n",
       "    </tr>\n",
       "    <tr>\n",
       "      <th>10687</th>\n",
       "      <td>2</td>\n",
       "      <td>63</td>\n",
       "      <td>2</td>\n",
       "      <td>1</td>\n",
       "      <td>1</td>\n",
       "      <td>5.0</td>\n",
       "      <td>1</td>\n",
       "      <td>0</td>\n",
       "      <td>402</td>\n",
       "      <td>1478</td>\n",
       "      <td>24</td>\n",
       "      <td>22</td>\n",
       "      <td>1926</td>\n",
       "    </tr>\n",
       "    <tr>\n",
       "      <th>10688</th>\n",
       "      <td>4</td>\n",
       "      <td>285</td>\n",
       "      <td>4</td>\n",
       "      <td>4</td>\n",
       "      <td>4</td>\n",
       "      <td>17.0</td>\n",
       "      <td>0</td>\n",
       "      <td>1</td>\n",
       "      <td>3100</td>\n",
       "      <td>15000</td>\n",
       "      <td>973</td>\n",
       "      <td>191</td>\n",
       "      <td>19260</td>\n",
       "    </tr>\n",
       "    <tr>\n",
       "      <th>10689</th>\n",
       "      <td>3</td>\n",
       "      <td>70</td>\n",
       "      <td>3</td>\n",
       "      <td>3</td>\n",
       "      <td>0</td>\n",
       "      <td>8.0</td>\n",
       "      <td>1</td>\n",
       "      <td>0</td>\n",
       "      <td>980</td>\n",
       "      <td>6000</td>\n",
       "      <td>332</td>\n",
       "      <td>78</td>\n",
       "      <td>7390</td>\n",
       "    </tr>\n",
       "    <tr>\n",
       "      <th>10690</th>\n",
       "      <td>3</td>\n",
       "      <td>120</td>\n",
       "      <td>2</td>\n",
       "      <td>2</td>\n",
       "      <td>2</td>\n",
       "      <td>8.0</td>\n",
       "      <td>0</td>\n",
       "      <td>0</td>\n",
       "      <td>1585</td>\n",
       "      <td>12000</td>\n",
       "      <td>279</td>\n",
       "      <td>155</td>\n",
       "      <td>14020</td>\n",
       "    </tr>\n",
       "    <tr>\n",
       "      <th>10691</th>\n",
       "      <td>4</td>\n",
       "      <td>80</td>\n",
       "      <td>2</td>\n",
       "      <td>1</td>\n",
       "      <td>0</td>\n",
       "      <td>5.0</td>\n",
       "      <td>0</td>\n",
       "      <td>1</td>\n",
       "      <td>0</td>\n",
       "      <td>1400</td>\n",
       "      <td>165</td>\n",
       "      <td>22</td>\n",
       "      <td>1587</td>\n",
       "    </tr>\n",
       "  </tbody>\n",
       "</table>\n",
       "<p>10692 rows × 13 columns</p>\n",
       "</div>"
      ],
      "text/plain": [
       "       city  area  rooms  bathroom  parking spaces  floor  animal  furniture   \n",
       "0         4    70      2         1               1    7.0       0          0  \\\n",
       "1         4   320      4         4               0   20.0       0          1   \n",
       "2         2    80      1         1               1    6.0       0          1   \n",
       "3         2    51      2         1               0    2.0       0          1   \n",
       "4         4    25      1         1               0    1.0       1          1   \n",
       "...     ...   ...    ...       ...             ...    ...     ...        ...   \n",
       "10687     2    63      2         1               1    5.0       1          0   \n",
       "10688     4   285      4         4               4   17.0       0          1   \n",
       "10689     3    70      3         3               0    8.0       1          0   \n",
       "10690     3   120      2         2               2    8.0       0          0   \n",
       "10691     4    80      2         1               0    5.0       0          1   \n",
       "\n",
       "       hoa (R$)  rent amount (R$)  property tax (R$)  fire insurance (R$)   \n",
       "0          2065              3300                211                   42  \\\n",
       "1          1200              4960               1750                   63   \n",
       "2          1000              2800                  0                   41   \n",
       "3           270              1112                 22                   17   \n",
       "4             0               800                 25                   11   \n",
       "...         ...               ...                ...                  ...   \n",
       "10687       402              1478                 24                   22   \n",
       "10688      3100             15000                973                  191   \n",
       "10689       980              6000                332                   78   \n",
       "10690      1585             12000                279                  155   \n",
       "10691         0              1400                165                   22   \n",
       "\n",
       "       total (R$)  \n",
       "0            5618  \n",
       "1            7973  \n",
       "2            3841  \n",
       "3            1421  \n",
       "4             836  \n",
       "...           ...  \n",
       "10687        1926  \n",
       "10688       19260  \n",
       "10689        7390  \n",
       "10690       14020  \n",
       "10691        1587  \n",
       "\n",
       "[10692 rows x 13 columns]"
      ]
     },
     "execution_count": 21,
     "metadata": {},
     "output_type": "execute_result"
    }
   ],
   "source": [
    "data"
   ]
  },
  {
   "cell_type": "code",
   "execution_count": 22,
   "id": "6e0341ba",
   "metadata": {},
   "outputs": [
    {
     "data": {
      "text/plain": [
       "city                     int64\n",
       "area                     int64\n",
       "rooms                    int64\n",
       "bathroom                 int64\n",
       "parking spaces           int64\n",
       "floor                  float64\n",
       "animal                   int64\n",
       "furniture                int64\n",
       "hoa (R$)                 int64\n",
       "rent amount (R$)         int64\n",
       "property tax (R$)        int64\n",
       "fire insurance (R$)      int64\n",
       "total (R$)               int64\n",
       "dtype: object"
      ]
     },
     "execution_count": 22,
     "metadata": {},
     "output_type": "execute_result"
    }
   ],
   "source": [
    "data.dtypes"
   ]
  },
  {
   "cell_type": "code",
   "execution_count": 23,
   "id": "ff54875a",
   "metadata": {},
   "outputs": [],
   "source": [
    "X = data.drop('total (R$)', axis=1)\n",
    "y = data['total (R$)']"
   ]
  },
  {
   "cell_type": "code",
   "execution_count": 24,
   "id": "94a631a0",
   "metadata": {},
   "outputs": [
    {
     "data": {
      "text/html": [
       "<div>\n",
       "<style scoped>\n",
       "    .dataframe tbody tr th:only-of-type {\n",
       "        vertical-align: middle;\n",
       "    }\n",
       "\n",
       "    .dataframe tbody tr th {\n",
       "        vertical-align: top;\n",
       "    }\n",
       "\n",
       "    .dataframe thead th {\n",
       "        text-align: right;\n",
       "    }\n",
       "</style>\n",
       "<table border=\"1\" class=\"dataframe\">\n",
       "  <thead>\n",
       "    <tr style=\"text-align: right;\">\n",
       "      <th></th>\n",
       "      <th>city</th>\n",
       "      <th>area</th>\n",
       "      <th>rooms</th>\n",
       "      <th>bathroom</th>\n",
       "      <th>parking spaces</th>\n",
       "      <th>floor</th>\n",
       "      <th>animal</th>\n",
       "      <th>furniture</th>\n",
       "      <th>hoa (R$)</th>\n",
       "      <th>rent amount (R$)</th>\n",
       "      <th>property tax (R$)</th>\n",
       "      <th>fire insurance (R$)</th>\n",
       "    </tr>\n",
       "  </thead>\n",
       "  <tbody>\n",
       "    <tr>\n",
       "      <th>0</th>\n",
       "      <td>4</td>\n",
       "      <td>70</td>\n",
       "      <td>2</td>\n",
       "      <td>1</td>\n",
       "      <td>1</td>\n",
       "      <td>7.0</td>\n",
       "      <td>0</td>\n",
       "      <td>0</td>\n",
       "      <td>2065</td>\n",
       "      <td>3300</td>\n",
       "      <td>211</td>\n",
       "      <td>42</td>\n",
       "    </tr>\n",
       "    <tr>\n",
       "      <th>1</th>\n",
       "      <td>4</td>\n",
       "      <td>320</td>\n",
       "      <td>4</td>\n",
       "      <td>4</td>\n",
       "      <td>0</td>\n",
       "      <td>20.0</td>\n",
       "      <td>0</td>\n",
       "      <td>1</td>\n",
       "      <td>1200</td>\n",
       "      <td>4960</td>\n",
       "      <td>1750</td>\n",
       "      <td>63</td>\n",
       "    </tr>\n",
       "    <tr>\n",
       "      <th>2</th>\n",
       "      <td>2</td>\n",
       "      <td>80</td>\n",
       "      <td>1</td>\n",
       "      <td>1</td>\n",
       "      <td>1</td>\n",
       "      <td>6.0</td>\n",
       "      <td>0</td>\n",
       "      <td>1</td>\n",
       "      <td>1000</td>\n",
       "      <td>2800</td>\n",
       "      <td>0</td>\n",
       "      <td>41</td>\n",
       "    </tr>\n",
       "    <tr>\n",
       "      <th>3</th>\n",
       "      <td>2</td>\n",
       "      <td>51</td>\n",
       "      <td>2</td>\n",
       "      <td>1</td>\n",
       "      <td>0</td>\n",
       "      <td>2.0</td>\n",
       "      <td>0</td>\n",
       "      <td>1</td>\n",
       "      <td>270</td>\n",
       "      <td>1112</td>\n",
       "      <td>22</td>\n",
       "      <td>17</td>\n",
       "    </tr>\n",
       "    <tr>\n",
       "      <th>4</th>\n",
       "      <td>4</td>\n",
       "      <td>25</td>\n",
       "      <td>1</td>\n",
       "      <td>1</td>\n",
       "      <td>0</td>\n",
       "      <td>1.0</td>\n",
       "      <td>1</td>\n",
       "      <td>1</td>\n",
       "      <td>0</td>\n",
       "      <td>800</td>\n",
       "      <td>25</td>\n",
       "      <td>11</td>\n",
       "    </tr>\n",
       "    <tr>\n",
       "      <th>...</th>\n",
       "      <td>...</td>\n",
       "      <td>...</td>\n",
       "      <td>...</td>\n",
       "      <td>...</td>\n",
       "      <td>...</td>\n",
       "      <td>...</td>\n",
       "      <td>...</td>\n",
       "      <td>...</td>\n",
       "      <td>...</td>\n",
       "      <td>...</td>\n",
       "      <td>...</td>\n",
       "      <td>...</td>\n",
       "    </tr>\n",
       "    <tr>\n",
       "      <th>10687</th>\n",
       "      <td>2</td>\n",
       "      <td>63</td>\n",
       "      <td>2</td>\n",
       "      <td>1</td>\n",
       "      <td>1</td>\n",
       "      <td>5.0</td>\n",
       "      <td>1</td>\n",
       "      <td>0</td>\n",
       "      <td>402</td>\n",
       "      <td>1478</td>\n",
       "      <td>24</td>\n",
       "      <td>22</td>\n",
       "    </tr>\n",
       "    <tr>\n",
       "      <th>10688</th>\n",
       "      <td>4</td>\n",
       "      <td>285</td>\n",
       "      <td>4</td>\n",
       "      <td>4</td>\n",
       "      <td>4</td>\n",
       "      <td>17.0</td>\n",
       "      <td>0</td>\n",
       "      <td>1</td>\n",
       "      <td>3100</td>\n",
       "      <td>15000</td>\n",
       "      <td>973</td>\n",
       "      <td>191</td>\n",
       "    </tr>\n",
       "    <tr>\n",
       "      <th>10689</th>\n",
       "      <td>3</td>\n",
       "      <td>70</td>\n",
       "      <td>3</td>\n",
       "      <td>3</td>\n",
       "      <td>0</td>\n",
       "      <td>8.0</td>\n",
       "      <td>1</td>\n",
       "      <td>0</td>\n",
       "      <td>980</td>\n",
       "      <td>6000</td>\n",
       "      <td>332</td>\n",
       "      <td>78</td>\n",
       "    </tr>\n",
       "    <tr>\n",
       "      <th>10690</th>\n",
       "      <td>3</td>\n",
       "      <td>120</td>\n",
       "      <td>2</td>\n",
       "      <td>2</td>\n",
       "      <td>2</td>\n",
       "      <td>8.0</td>\n",
       "      <td>0</td>\n",
       "      <td>0</td>\n",
       "      <td>1585</td>\n",
       "      <td>12000</td>\n",
       "      <td>279</td>\n",
       "      <td>155</td>\n",
       "    </tr>\n",
       "    <tr>\n",
       "      <th>10691</th>\n",
       "      <td>4</td>\n",
       "      <td>80</td>\n",
       "      <td>2</td>\n",
       "      <td>1</td>\n",
       "      <td>0</td>\n",
       "      <td>5.0</td>\n",
       "      <td>0</td>\n",
       "      <td>1</td>\n",
       "      <td>0</td>\n",
       "      <td>1400</td>\n",
       "      <td>165</td>\n",
       "      <td>22</td>\n",
       "    </tr>\n",
       "  </tbody>\n",
       "</table>\n",
       "<p>10692 rows × 12 columns</p>\n",
       "</div>"
      ],
      "text/plain": [
       "       city  area  rooms  bathroom  parking spaces  floor  animal  furniture   \n",
       "0         4    70      2         1               1    7.0       0          0  \\\n",
       "1         4   320      4         4               0   20.0       0          1   \n",
       "2         2    80      1         1               1    6.0       0          1   \n",
       "3         2    51      2         1               0    2.0       0          1   \n",
       "4         4    25      1         1               0    1.0       1          1   \n",
       "...     ...   ...    ...       ...             ...    ...     ...        ...   \n",
       "10687     2    63      2         1               1    5.0       1          0   \n",
       "10688     4   285      4         4               4   17.0       0          1   \n",
       "10689     3    70      3         3               0    8.0       1          0   \n",
       "10690     3   120      2         2               2    8.0       0          0   \n",
       "10691     4    80      2         1               0    5.0       0          1   \n",
       "\n",
       "       hoa (R$)  rent amount (R$)  property tax (R$)  fire insurance (R$)  \n",
       "0          2065              3300                211                   42  \n",
       "1          1200              4960               1750                   63  \n",
       "2          1000              2800                  0                   41  \n",
       "3           270              1112                 22                   17  \n",
       "4             0               800                 25                   11  \n",
       "...         ...               ...                ...                  ...  \n",
       "10687       402              1478                 24                   22  \n",
       "10688      3100             15000                973                  191  \n",
       "10689       980              6000                332                   78  \n",
       "10690      1585             12000                279                  155  \n",
       "10691         0              1400                165                   22  \n",
       "\n",
       "[10692 rows x 12 columns]"
      ]
     },
     "execution_count": 24,
     "metadata": {},
     "output_type": "execute_result"
    }
   ],
   "source": [
    "X"
   ]
  },
  {
   "cell_type": "code",
   "execution_count": 25,
   "id": "9899e4b4",
   "metadata": {},
   "outputs": [
    {
     "data": {
      "text/plain": [
       "0         5618\n",
       "1         7973\n",
       "2         3841\n",
       "3         1421\n",
       "4          836\n",
       "         ...  \n",
       "10687     1926\n",
       "10688    19260\n",
       "10689     7390\n",
       "10690    14020\n",
       "10691     1587\n",
       "Name: total (R$), Length: 10692, dtype: int64"
      ]
     },
     "execution_count": 25,
     "metadata": {},
     "output_type": "execute_result"
    }
   ],
   "source": [
    "y"
   ]
  },
  {
   "cell_type": "code",
   "execution_count": 26,
   "id": "a8fa3aab",
   "metadata": {},
   "outputs": [],
   "source": [
    "# Формирование обучающей и тестовой выборки\n",
    "X_train, X_test, y_train, y_test = train_test_split(X, y, test_size = 0.2, random_state = 42)"
   ]
  },
  {
   "cell_type": "markdown",
   "id": "a1f403d1",
   "metadata": {},
   "source": [
    "## Обучение"
   ]
  },
  {
   "cell_type": "code",
   "execution_count": 27,
   "id": "1f7ac6fe",
   "metadata": {},
   "outputs": [],
   "source": [
    "dtr = DecisionTreeRegressor(random_state=42)\n",
    "dtr.fit(X_train, y_train)\n",
    "dtr_y_test = dtr.predict(X_test)"
   ]
  },
  {
   "cell_type": "code",
   "execution_count": 28,
   "id": "a173b4a2",
   "metadata": {},
   "outputs": [
    {
     "data": {
      "text/plain": [
       "26"
      ]
     },
     "execution_count": 28,
     "metadata": {},
     "output_type": "execute_result"
    }
   ],
   "source": [
    "dtr.get_depth()"
   ]
  },
  {
   "cell_type": "code",
   "execution_count": 29,
   "id": "600b1a15",
   "metadata": {},
   "outputs": [],
   "source": [
    "rfr = RandomForestRegressor(random_state=42)\n",
    "rfr.fit(X_train, y_train)\n",
    "rfr_y_test = rfr.predict(X_test)"
   ]
  },
  {
   "cell_type": "code",
   "execution_count": 30,
   "id": "65e82a3d",
   "metadata": {},
   "outputs": [],
   "source": [
    "from sklearn.model_selection import GridSearchCV"
   ]
  },
  {
   "cell_type": "markdown",
   "id": "44f21146",
   "metadata": {},
   "source": [
    "### Подбор параметров с помощью GridSearchCV"
   ]
  },
  {
   "cell_type": "code",
   "execution_count": 31,
   "id": "4c7f01ec",
   "metadata": {},
   "outputs": [
    {
     "name": "stdout",
     "output_type": "stream",
     "text": [
      "Лучший параметр: {'n_estimators': 200}\n"
     ]
    }
   ],
   "source": [
    "param_rf = {\n",
    "    'n_estimators': [25, 50, 75, 100, 150, 200, 250, 300],\n",
    "}\n",
    "\n",
    "grid_search_rf = GridSearchCV(estimator=RandomForestRegressor(random_state=42),\n",
    "                              param_grid=param_rf,\n",
    "                              cv=5, n_jobs=-1)\n",
    "grid_search_rf.fit(X_train, y_train)\n",
    "\n",
    "print(f\"Лучший параметр: {grid_search_rf.best_params_}\")"
   ]
  },
  {
   "cell_type": "code",
   "execution_count": 32,
   "id": "237f3bd2",
   "metadata": {},
   "outputs": [
    {
     "name": "stdout",
     "output_type": "stream",
     "text": [
      "Лучший параметр: {'max_depth': 23}\n"
     ]
    }
   ],
   "source": [
    "# Определение сетки гиперпараметров для глубины дерева решений\n",
    "param_grid = {\n",
    "    'max_depth': list(range(3, 31))  # от 3 до 30 с шагом 1\n",
    "}\n",
    "\n",
    "# Инициализация и настройка GridSearchCV для DecisionTreeRegressor\n",
    "grid_search = GridSearchCV(estimator=DecisionTreeRegressor(random_state=42),\n",
    "                           param_grid=param_grid,\n",
    "                           cv=5, n_jobs=-1)\n",
    "grid_search.fit(X_train, y_train)\n",
    "\n",
    "# Вывод лучших параметров\n",
    "print(f\"Лучший параметр: {grid_search.best_params_}\")"
   ]
  },
  {
   "cell_type": "code",
   "execution_count": 33,
   "id": "448c2f1e",
   "metadata": {},
   "outputs": [],
   "source": [
    "rfr = RandomForestRegressor(n_estimators=200, random_state=42)\n",
    "rfr.fit(X_train, y_train)\n",
    "rfr_y_test = rfr.predict(X_test)"
   ]
  },
  {
   "cell_type": "code",
   "execution_count": 34,
   "id": "ef2eae34",
   "metadata": {},
   "outputs": [],
   "source": [
    "dtr = DecisionTreeRegressor(max_depth=23, random_state=42)\n",
    "dtr.fit(X_train, y_train)\n",
    "dtr_y_test = dtr.predict(X_test)"
   ]
  },
  {
   "cell_type": "markdown",
   "id": "c7a6c849",
   "metadata": {},
   "source": [
    "## Оценка"
   ]
  },
  {
   "cell_type": "markdown",
   "id": "6357ca97",
   "metadata": {},
   "source": [
    "Для оценки моделей были выбраны метрики для задачи регрессии (которую мы здесь и решаем): MAE и  𝑅2\n",
    "\n",
    "MAE - легко интерпретируетмая метрика, которая позволяет понять среднее отклонение в тех же единицах измерения, что и данные (бразильские реалаы).\n",
    "\n",
    "𝑅2 - метрика, по которой можно понять насколько хорошо модель обрабатывает разные данные."
   ]
  },
  {
   "cell_type": "code",
   "execution_count": 35,
   "id": "6b59fe5b",
   "metadata": {},
   "outputs": [],
   "source": [
    "from sklearn.metrics import r2_score, mean_absolute_error"
   ]
  },
  {
   "cell_type": "code",
   "execution_count": 36,
   "id": "48a37c9e",
   "metadata": {},
   "outputs": [
    {
     "name": "stdout",
     "output_type": "stream",
     "text": [
      "Дерево решений: 0.8971\n",
      "Случайный лес: 0.9951\n"
     ]
    }
   ],
   "source": [
    "# R2\n",
    "print(f\"Дерево решений: {r2_score(y_test, dtr_y_test):.4f}\")\n",
    "print(f\"Случайный лес: {r2_score(y_test, rfr_y_test):.4f}\")"
   ]
  },
  {
   "cell_type": "code",
   "execution_count": 37,
   "id": "732455b2",
   "metadata": {},
   "outputs": [
    {
     "name": "stdout",
     "output_type": "stream",
     "text": [
      "Дерево решений: 177.8093\n",
      "Случайный лес: 80.0499\n"
     ]
    }
   ],
   "source": [
    "# MAE\n",
    "print(f\"Дерево решений: {mean_absolute_error(y_test, dtr_y_test):.4f}\")\n",
    "print(f\"Случайный лес: {mean_absolute_error(y_test, rfr_y_test):.4f}\")"
   ]
  },
  {
   "cell_type": "markdown",
   "id": "c56d59c8",
   "metadata": {},
   "source": [
    "## Выводы"
   ]
  },
  {
   "cell_type": "markdown",
   "id": "aee13ba6",
   "metadata": {},
   "source": [
    "Случайный лес имеет заметно меньшее значение MAE, то есть его предсказания в среднем ближе к реальным.\n",
    "\n",
    "Ожидаемо, более сложная модель, случайный лес, показала лучшие результаты на обеих метриках."
   ]
  },
  {
   "cell_type": "code",
   "execution_count": null,
   "id": "e9b9e6c4",
   "metadata": {},
   "outputs": [],
   "source": []
  }
 ],
 "metadata": {
  "kernelspec": {
   "display_name": "Python 3 (ipykernel)",
   "language": "python",
   "name": "python3"
  },
  "language_info": {
   "codemirror_mode": {
    "name": "ipython",
    "version": 3
   },
   "file_extension": ".py",
   "mimetype": "text/x-python",
   "name": "python",
   "nbconvert_exporter": "python",
   "pygments_lexer": "ipython3",
   "version": "3.10.12"
  }
 },
 "nbformat": 4,
 "nbformat_minor": 5
}
